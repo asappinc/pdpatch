{
 "cells": [
  {
   "cell_type": "code",
   "execution_count": null,
   "id": "ca599ebc",
   "metadata": {},
   "outputs": [],
   "source": [
    "#| default_exp seaborn\n",
    "#| nbflags skip_showdoc skip_exec"
   ]
  },
  {
   "cell_type": "markdown",
   "id": "2725a130",
   "metadata": {},
   "source": [
    "# seaborn\n",
    "> A drop-in replacement for `seaborn` that renames all labels from snake_case to Words."
   ]
  },
  {
   "cell_type": "code",
   "execution_count": null,
   "id": "8cbe42d2",
   "metadata": {},
   "outputs": [],
   "source": [
    "#| export\n",
    "import inspect\n",
    "from functools import wraps\n",
    "import seaborn\n",
    "from pdpatch.case import *"
   ]
  },
  {
   "cell_type": "code",
   "execution_count": null,
   "id": "25cbad74",
   "metadata": {},
   "outputs": [],
   "source": [
    "from pdpatch.core import *\n",
    "import pandas as pd"
   ]
  },
  {
   "cell_type": "code",
   "execution_count": null,
   "id": "d2bda917",
   "metadata": {},
   "outputs": [],
   "source": [
    "#| export\n",
    "def if_is_else(fun, x, t):\n",
    "    if isinstance(x, t): return fun(x)\n",
    "    else: return x"
   ]
  },
  {
   "cell_type": "code",
   "execution_count": null,
   "id": "c8798007",
   "metadata": {},
   "outputs": [],
   "source": [
    "#| export\n",
    "def renamer(fun):\n",
    "    @wraps(fun)\n",
    "    def _inner(*args, **kwargs):\n",
    "        new_args = [if_is_else(rename2words_cols_and_index, x, pd.DataFrame) for x in args]\n",
    "        new_args = [if_is_else(snake2words_if_str, x, str) for x in new_args]\n",
    "        args = tuple(new_args)\n",
    "        for k in kwargs:\n",
    "            kwargs[k] = if_is_else(rename2words_cols_and_index, kwargs[k], pd.DataFrame)\n",
    "        \n",
    "        keys = ['x', 'y', 'hue', 'col', 'row', 'size', 'style']\n",
    "        for k in keys:\n",
    "            if k in kwargs:\n",
    "                if is_listy(kwargs[k]):\n",
    "                    kwargs[k] = [snake2words_if_str(x) for x in kwargs[k]]\n",
    "                else:\n",
    "                    kwargs[k] = snake2words_if_str(kwargs[k])\n",
    "        return fun(*args, **kwargs)\n",
    "    return _inner"
   ]
  },
  {
   "cell_type": "code",
   "execution_count": null,
   "id": "bce47fb6",
   "metadata": {},
   "outputs": [],
   "source": [
    "#| export\n",
    "class Seaborn:\n",
    "    '''Like `express` but renames all columns from snake_case to Words.'''\n",
    "    def __getattr__(self, attr):\n",
    "        fun = getattr(seaborn, attr)\n",
    "        return renamer(fun)\n",
    "    __dir__ = seaborn.__dir__\n",
    "sns = Seaborn()"
   ]
  },
  {
   "cell_type": "code",
   "execution_count": null,
   "id": "b45aed4f",
   "metadata": {},
   "outputs": [],
   "source": [
    "df = pd.DataFrame({'time__s__': range(10), 'position__m__': range(10)})\n",
    "sns.regplot(data=df, x='time__s__', y='position__m__')"
   ]
  },
  {
   "cell_type": "code",
   "execution_count": null,
   "id": "43248793",
   "metadata": {},
   "outputs": [],
   "source": [
    "tips = sns.load_dataset(\"tips\")\n",
    "sns.relplot(data=tips, x=\"total_bill\", y=\"tip\", hue=\"day\");"
   ]
  },
  {
   "cell_type": "code",
   "execution_count": null,
   "id": "50d6dd63",
   "metadata": {},
   "outputs": [],
   "source": [
    "sns.relplot(data=tips, x=\"total_bill\", y=\"tip\", hue=\"day\", col=\"time\");"
   ]
  },
  {
   "cell_type": "code",
   "execution_count": null,
   "id": "a6d9ab09",
   "metadata": {},
   "outputs": [],
   "source": [
    "sns.relplot(data=tips, x=\"total_bill\", y=\"tip\", hue=\"day\", col=\"time\", row=\"sex\")"
   ]
  },
  {
   "cell_type": "code",
   "execution_count": null,
   "id": "f59e059a",
   "metadata": {},
   "outputs": [],
   "source": [
    "sns.relplot(\n",
    "    data=tips, x=\"total_bill\", y=\"tip\", col=\"time\",\n",
    "    hue=\"time\", size=\"size\", style=\"sex\",\n",
    "    palette=[\"b\", \"r\"], sizes=(10, 100)\n",
    ")"
   ]
  },
  {
   "cell_type": "code",
   "execution_count": null,
   "id": "cf0d699f",
   "metadata": {},
   "outputs": [],
   "source": [
    "fmri = seaborn.load_dataset(\"fmri\")\n",
    "sns.relplot(\n",
    "    data=fmri, x=\"timepoint\", y=\"signal\", col=\"region\",\n",
    "    hue=\"event\", style=\"event\", kind=\"line\",\n",
    ")"
   ]
  },
  {
   "cell_type": "code",
   "execution_count": null,
   "id": "28f264ca",
   "metadata": {},
   "outputs": [],
   "source": [
    "sns.relplot(\n",
    "    data=fmri,\n",
    "    x=\"timepoint\", y=\"signal\",\n",
    "    hue=\"event\", style=\"event\", col=\"region\",\n",
    "    height=4, aspect=.7, kind=\"line\"\n",
    ")"
   ]
  },
  {
   "cell_type": "code",
   "execution_count": null,
   "id": "9c3a6467",
   "metadata": {},
   "outputs": [],
   "source": [
    "import matplotlib.pyplot as plt\n",
    "g = sns.relplot(\n",
    "    data=fmri,\n",
    "    x=\"timepoint\", y=\"signal\",\n",
    "    hue=\"event\", style=\"event\", col=\"region\",\n",
    "    height=4, aspect=.7, kind=\"line\"\n",
    ")\n",
    "(g.map(plt.axhline, y=0, color=\".7\", dashes=(2, 1), zorder=0)\n",
    "  .set_axis_labels(\"Timepoint\", \"Percent signal change\")\n",
    "  .set_titles(\"Region: {col_name} cortex\")\n",
    "  .tight_layout(w_pad=0))"
   ]
  },
  {
   "cell_type": "code",
   "execution_count": null,
   "id": "4f862497",
   "metadata": {},
   "outputs": [],
   "source": [
    "flights_wide = sns.load_dataset(\"flights\").pivot(\"year\", \"month\", \"passengers\")\n",
    "sns.relplot(data=flights_wide, kind=\"line\")"
   ]
  },
  {
   "cell_type": "code",
   "execution_count": null,
   "id": "0dbef495",
   "metadata": {},
   "outputs": [],
   "source": [
    "penguins = sns.load_dataset(\"penguins\")\n",
    "sns.displot(data=penguins, x=\"flipper_length_mm\");"
   ]
  },
  {
   "cell_type": "code",
   "execution_count": null,
   "id": "3771eabf",
   "metadata": {},
   "outputs": [],
   "source": [
    "# import seaborn as sns;\n",
    "sns.set_theme(color_codes=True)\n",
    "tips = sns.load_dataset(\"tips\")\n",
    "g = sns.lmplot(x=\"total_bill\", y=\"tip\", data=tips);"
   ]
  },
  {
   "cell_type": "code",
   "execution_count": null,
   "id": "46bbbd58",
   "metadata": {},
   "outputs": [],
   "source": [
    "g = sns.lmplot(x=\"total_bill\", y=\"tip\", col=\"day\", hue=\"day\",\n",
    "               data=tips, col_wrap=2, height=3);"
   ]
  },
  {
   "cell_type": "code",
   "execution_count": null,
   "id": "f7b591af",
   "metadata": {},
   "outputs": [],
   "source": [
    "flights = sns.load_dataset(\"flights\")\n",
    "flights = flights.pivot(\"month\", \"year\", \"passengers\")\n",
    "ax = sns.heatmap(flights);"
   ]
  },
  {
   "cell_type": "markdown",
   "id": "27cba247",
   "metadata": {},
   "source": [
    "If you use `sns.FacetGrid` you will have to use the Word version of the column names in the method `map` and `map_dataframe`."
   ]
  },
  {
   "cell_type": "code",
   "execution_count": null,
   "id": "4d8b0309",
   "metadata": {},
   "outputs": [],
   "source": [
    "tips = sns.load_dataset(\"tips\")\n",
    "g = sns.FacetGrid(tips, col=\"time\",  row=\"sex\")\n",
    "g.map(sns.scatterplot, \"Total Bill\", \"Tip\");"
   ]
  },
  {
   "cell_type": "code",
   "execution_count": null,
   "id": "2ff9084a",
   "metadata": {},
   "outputs": [],
   "source": [
    "g = sns.FacetGrid(tips, col=\"time\",  row=\"sex\")\n",
    "g.map_dataframe(sns.histplot, x=\"Total Bill\");"
   ]
  },
  {
   "cell_type": "markdown",
   "id": "cd4497ad",
   "metadata": {},
   "source": [
    "## Export -"
   ]
  },
  {
   "cell_type": "code",
   "execution_count": null,
   "id": "14803deb",
   "metadata": {},
   "outputs": [],
   "source": [
    "#|hide\n",
    "#|eval: false\n",
    "from nbdev import nbdev_export; nbdev_export()"
   ]
  }
 ],
 "metadata": {
  "kernelspec": {
   "display_name": "Python 3 (ipykernel)",
   "language": "python",
   "name": "python3"
  }
 },
 "nbformat": 4,
 "nbformat_minor": 5
}
