{
 "cells": [
  {
   "cell_type": "code",
   "execution_count": null,
   "metadata": {},
   "outputs": [],
   "source": [
    "#default_exp core"
   ]
  },
  {
   "cell_type": "markdown",
   "metadata": {},
   "source": [
    "# core\n",
    "\n",
    "\n",
    "> Monkey patches for pandas."
   ]
  },
  {
   "cell_type": "code",
   "execution_count": null,
   "metadata": {},
   "outputs": [],
   "source": [
    "#hide\n",
    "from nbdev.showdoc import *"
   ]
  },
  {
   "cell_type": "code",
   "execution_count": null,
   "metadata": {},
   "outputs": [],
   "source": [
    "#export\n",
    "import warnings\n",
    "from functools import partial\n",
    "\n",
    "from fastcore.all import *\n",
    "import pandas as pd\n",
    "import ipywidgets as widgets\n",
    "from IPython.display import display"
   ]
  },
  {
   "cell_type": "markdown",
   "metadata": {},
   "source": [
    "## Transformations"
   ]
  },
  {
   "cell_type": "code",
   "execution_count": null,
   "metadata": {},
   "outputs": [],
   "source": [
    "#export\n",
    "@patch\n",
    "def repetitions(self:pd.DataFrame, col): return self.groupby(col).size()"
   ]
  },
  {
   "cell_type": "code",
   "execution_count": null,
   "metadata": {},
   "outputs": [],
   "source": [
    "#export\n",
    "add_docs(pd.DataFrame, repetitions='Counts the number of repetitions for each element.')"
   ]
  },
  {
   "cell_type": "code",
   "execution_count": null,
   "metadata": {},
   "outputs": [
    {
     "data": {
      "text/markdown": "<h4 id=\"DataFrame.repetitions\" class=\"doc_header\"><code>DataFrame.repetitions</code><a href=\"__main__.py#L2\" class=\"source_link\" style=\"float:right\">[source]</a></h4>\n\n> <code>DataFrame.repetitions</code>(**`col`**)\n\nCounts the number of repetitions for each element.",
      "text/plain": "<IPython.core.display.Markdown object>"
     },
     "metadata": {},
     "output_type": "display_data"
    }
   ],
   "source": [
    "show_doc(pd.DataFrame.repetitions)"
   ]
  },
  {
   "cell_type": "code",
   "execution_count": null,
   "metadata": {},
   "outputs": [
    {
     "data": {
      "text/plain": [
       "b\n",
       "1    4\n",
       "2    3\n",
       "3    2\n",
       "4    1\n",
       "dtype: int64"
      ]
     },
     "execution_count": null,
     "metadata": {},
     "output_type": "execute_result"
    }
   ],
   "source": [
    "df = pd.DataFrame({'a': [1, 2, 3, 4, 4, 5, 5, 6, 6, 6], 'b':[1, 1, 1, 1, 2, 2, 2, 3, 3, 4]})\n",
    "df.repetitions('b')"
   ]
  },
  {
   "cell_type": "code",
   "execution_count": null,
   "metadata": {},
   "outputs": [],
   "source": [
    "test(df.repetitions('b'), pd.Series({1:4, 2:3,3:2, 4:1}), all_equal)"
   ]
  },
  {
   "cell_type": "code",
   "execution_count": null,
   "metadata": {},
   "outputs": [],
   "source": [
    "#export\n",
    "@patch\n",
    "def repetition_counts(self:pd.DataFrame, col): return self.repetitions(col).value_counts()"
   ]
  },
  {
   "cell_type": "code",
   "execution_count": null,
   "metadata": {},
   "outputs": [],
   "source": [
    "#export\n",
    "add_docs(pd.DataFrame,repetition_counts='Counts the number of groups with the same number of repetitions.')"
   ]
  },
  {
   "cell_type": "code",
   "execution_count": null,
   "metadata": {},
   "outputs": [
    {
     "data": {
      "text/markdown": "<h4 id=\"DataFrame.repetition_counts\" class=\"doc_header\"><code>DataFrame.repetition_counts</code><a href=\"__main__.py#L2\" class=\"source_link\" style=\"float:right\">[source]</a></h4>\n\n> <code>DataFrame.repetition_counts</code>(**`col`**)\n\nCounts the number of groups with the same number of repetitions.",
      "text/plain": "<IPython.core.display.Markdown object>"
     },
     "metadata": {},
     "output_type": "display_data"
    }
   ],
   "source": [
    "show_doc(pd.DataFrame.repetition_counts) "
   ]
  },
  {
   "cell_type": "markdown",
   "metadata": {},
   "source": [
    "In the following example there are three groups with one element, two groups with two elements, and one group with three elements."
   ]
  },
  {
   "cell_type": "code",
   "execution_count": null,
   "metadata": {},
   "outputs": [
    {
     "data": {
      "text/plain": [
       "1    3\n",
       "2    2\n",
       "3    1\n",
       "dtype: int64"
      ]
     },
     "execution_count": null,
     "metadata": {},
     "output_type": "execute_result"
    }
   ],
   "source": [
    "df.repetition_counts('a')"
   ]
  },
  {
   "cell_type": "code",
   "execution_count": null,
   "metadata": {},
   "outputs": [],
   "source": [
    "test(df.repetition_counts('a'), pd.Series({1: 3, 2:2, 3:1}), all_equal)"
   ]
  },
  {
   "cell_type": "code",
   "execution_count": null,
   "metadata": {},
   "outputs": [],
   "source": [
    "#export\n",
    "@patch\n",
    "def single_events(self:pd.DataFrame, col): return self.set_index(col).loc[self.repetitions(col)==1].reset_index()"
   ]
  },
  {
   "cell_type": "code",
   "execution_count": null,
   "metadata": {},
   "outputs": [],
   "source": [
    "#export\n",
    "add_docs(pd.DataFrame, single_events='Returns rows that appear only once.')"
   ]
  },
  {
   "cell_type": "code",
   "execution_count": null,
   "metadata": {},
   "outputs": [
    {
     "data": {
      "text/markdown": "<h4 id=\"DataFrame.single_events\" class=\"doc_header\"><code>DataFrame.single_events</code><a href=\"__main__.py#L2\" class=\"source_link\" style=\"float:right\">[source]</a></h4>\n\n> <code>DataFrame.single_events</code>(**`col`**)\n\nReturns rows that appear only once.",
      "text/plain": "<IPython.core.display.Markdown object>"
     },
     "metadata": {},
     "output_type": "display_data"
    }
   ],
   "source": [
    "show_doc(pd.DataFrame.single_events)"
   ]
  },
  {
   "cell_type": "code",
   "execution_count": null,
   "metadata": {},
   "outputs": [
    {
     "data": {
      "text/html": "<div>\n<style scoped>\n    .dataframe tbody tr th:only-of-type {\n        vertical-align: middle;\n    }\n\n    .dataframe tbody tr th {\n        vertical-align: top;\n    }\n\n    .dataframe thead th {\n        text-align: right;\n    }\n</style>\n<table border=\"1\" class=\"dataframe\">\n  <thead>\n    <tr style=\"text-align: right;\">\n      <th></th>\n      <th>a</th>\n      <th>b</th>\n    </tr>\n  </thead>\n  <tbody>\n    <tr>\n      <th>0</th>\n      <td>1</td>\n      <td>1</td>\n    </tr>\n    <tr>\n      <th>1</th>\n      <td>2</td>\n      <td>1</td>\n    </tr>\n    <tr>\n      <th>2</th>\n      <td>3</td>\n      <td>1</td>\n    </tr>\n  </tbody>\n</table>\n</div>",
      "text/plain": [
       "   a  b\n",
       "0  1  1\n",
       "1  2  1\n",
       "2  3  1"
      ]
     },
     "execution_count": null,
     "metadata": {},
     "output_type": "execute_result"
    }
   ],
   "source": [
    "df.single_events('a')"
   ]
  },
  {
   "cell_type": "code",
   "execution_count": null,
   "metadata": {},
   "outputs": [],
   "source": [
    "test_eq(df.single_events('a'), df.loc[[0, 1, 2]])"
   ]
  },
  {
   "cell_type": "markdown",
   "metadata": {},
   "source": [
    "## Functions as methods\n"
   ]
  },
  {
   "cell_type": "markdown",
   "metadata": {},
   "source": [
    "Pandas functions that are easier to execute as DataFrame/Series methods.\n"
   ]
  },
  {
   "cell_type": "code",
   "execution_count": null,
   "metadata": {},
   "outputs": [],
   "source": [
    "#export\n",
    "@patch\n",
    "@delegates(pd.crosstab)\n",
    "def crosstab(self:pd.DataFrame, index, column, **kwargs): return pd.crosstab(self[index], self[column], **kwargs)"
   ]
  },
  {
   "cell_type": "code",
   "execution_count": null,
   "metadata": {},
   "outputs": [],
   "source": [
    "#export\n",
    "add_docs(pd.DataFrame, crosstab=pd.crosstab.__doc__)"
   ]
  },
  {
   "cell_type": "code",
   "execution_count": null,
   "metadata": {},
   "outputs": [],
   "source": [
    "#export\n",
    "@patch\n",
    "def len(self:pd.DataFrame): return len(self)"
   ]
  },
  {
   "cell_type": "code",
   "execution_count": null,
   "metadata": {},
   "outputs": [],
   "source": [
    "#export\n",
    "add_docs(pd.DataFrame, len=len.__doc__)"
   ]
  },
  {
   "cell_type": "markdown",
   "metadata": {},
   "source": [
    "## One-liners\n",
    "\n",
    "> These methods allow fast exploration of the data in one line."
   ]
  },
  {
   "cell_type": "code",
   "execution_count": null,
   "metadata": {},
   "outputs": [],
   "source": [
    "#export\n",
    "@patch(as_prop=True)\n",
    "def l(self:pd.Index): return L(self, use_list=True)"
   ]
  },
  {
   "cell_type": "code",
   "execution_count": null,
   "metadata": {},
   "outputs": [],
   "source": [
    "#export\n",
    "@patch(as_prop=True)\n",
    "def minmax(self:pd.Series): return (self.min(), self.max())"
   ]
  },
  {
   "cell_type": "code",
   "execution_count": null,
   "metadata": {},
   "outputs": [],
   "source": [
    "#export\n",
    "@patch\n",
    "def page(self:pd.DataFrame, page, page_size=5): return self.head(page*page_size).tail(page_size)"
   ]
  },
  {
   "cell_type": "code",
   "execution_count": null,
   "metadata": {},
   "outputs": [],
   "source": [
    "#export\n",
    "add_docs(pd.DataFrame, page='Shows rows from page*page_size to (page+1)*page_size')"
   ]
  },
  {
   "cell_type": "code",
   "execution_count": null,
   "metadata": {},
   "outputs": [
    {
     "data": {
      "text/html": "<div>\n<style scoped>\n    .dataframe tbody tr th:only-of-type {\n        vertical-align: middle;\n    }\n\n    .dataframe tbody tr th {\n        vertical-align: top;\n    }\n\n    .dataframe thead th {\n        text-align: right;\n    }\n</style>\n<table border=\"1\" class=\"dataframe\">\n  <thead>\n    <tr style=\"text-align: right;\">\n      <th></th>\n      <th>a</th>\n      <th>b</th>\n    </tr>\n  </thead>\n  <tbody>\n    <tr>\n      <th>5</th>\n      <td>5</td>\n      <td>5</td>\n    </tr>\n    <tr>\n      <th>6</th>\n      <td>6</td>\n      <td>6</td>\n    </tr>\n    <tr>\n      <th>7</th>\n      <td>7</td>\n      <td>7</td>\n    </tr>\n    <tr>\n      <th>8</th>\n      <td>8</td>\n      <td>8</td>\n    </tr>\n    <tr>\n      <th>9</th>\n      <td>9</td>\n      <td>9</td>\n    </tr>\n  </tbody>\n</table>\n</div>",
      "text/plain": [
       "   a  b\n",
       "5  5  5\n",
       "6  6  6\n",
       "7  7  7\n",
       "8  8  8\n",
       "9  9  9"
      ]
     },
     "execution_count": null,
     "metadata": {},
     "output_type": "execute_result"
    }
   ],
   "source": [
    "df = pd.DataFrame({'a': range(15), 'b': range(15)})\n",
    "df.page(2)"
   ]
  },
  {
   "cell_type": "code",
   "execution_count": null,
   "metadata": {},
   "outputs": [],
   "source": [
    "#export\n",
    "@patch\n",
    "def page(self:pd.Series, page, page_size=5): return self.head(page*page_size).tail(page_size)"
   ]
  },
  {
   "cell_type": "code",
   "execution_count": null,
   "metadata": {},
   "outputs": [],
   "source": [
    "#export\n",
    "add_docs(pd.Series, page='Shows rows from page*page_size to (page+1)*page_size')"
   ]
  },
  {
   "cell_type": "code",
   "execution_count": null,
   "metadata": {},
   "outputs": [
    {
     "data": {
      "text/plain": [
       "5    5\n",
       "6    6\n",
       "7    7\n",
       "8    8\n",
       "9    9\n",
       "dtype: int64"
      ]
     },
     "execution_count": null,
     "metadata": {},
     "output_type": "execute_result"
    }
   ],
   "source": [
    "s = pd.Series(range(15))\n",
    "s.page(2)"
   ]
  },
  {
   "cell_type": "markdown",
   "metadata": {},
   "source": [
    "## Method Variations\n"
   ]
  },
  {
   "cell_type": "markdown",
   "metadata": {},
   "source": [
    "These methods are slight variations from DataFrame ones.\n"
   ]
  },
  {
   "cell_type": "code",
   "execution_count": null,
   "metadata": {},
   "outputs": [],
   "source": [
    "#export\n",
    "@patch\n",
    "def renamec(self:pd.DataFrame, d): return self.rename(columns=d)"
   ]
  },
  {
   "cell_type": "code",
   "execution_count": null,
   "metadata": {},
   "outputs": [],
   "source": [
    "#export\n",
    "add_docs(pd.DataFrame, renamec='Renames column names.')"
   ]
  },
  {
   "cell_type": "code",
   "execution_count": null,
   "metadata": {},
   "outputs": [],
   "source": [
    "#export\n",
    "@patch\n",
    "def notin(self:pd.Series, values): return ~self.isin(values)"
   ]
  },
  {
   "cell_type": "code",
   "execution_count": null,
   "metadata": {},
   "outputs": [],
   "source": [
    "#export\n",
    "add_docs(pd.Series, notin='Whether elements in Series are not contained in `values`.')"
   ]
  },
  {
   "cell_type": "code",
   "execution_count": null,
   "metadata": {},
   "outputs": [],
   "source": [
    "#export\n",
    "@patch\n",
    "def mapk(self:pd.Series, fun, **kwargs): return self.map(partial(fun, **kwargs))"
   ]
  },
  {
   "cell_type": "code",
   "execution_count": null,
   "metadata": {},
   "outputs": [],
   "source": [
    "#export\n",
    "add_docs(pd.Series, mapk='Like map but passes kwargs to function.')"
   ]
  },
  {
   "cell_type": "markdown",
   "metadata": {},
   "source": [
    "## Utils\n"
   ]
  },
  {
   "cell_type": "code",
   "execution_count": null,
   "metadata": {},
   "outputs": [],
   "source": [
    "#export\n",
    "def dummydf(): return pd.DataFrame({'col_1': range(100, 105), 'col_2': ['a','b','c','d','e']})"
   ]
  },
  {
   "cell_type": "markdown",
   "metadata": {},
   "source": [
    "## Display"
   ]
  },
  {
   "cell_type": "code",
   "execution_count": null,
   "metadata": {},
   "outputs": [],
   "source": [
    "#export\n",
    "@patch\n",
    "def title(self:pd.DataFrame, title):\n",
    "    '''Displays DataFrame with a title.'''\n",
    "    out = widgets.Output()\n",
    "    with out: display(self)\n",
    "    layout = widgets.Layout(align_items='center')\n",
    "    return widgets.VBox([widgets.Label(title, layout=layout), out])"
   ]
  },
  {
   "cell_type": "code",
   "execution_count": null,
   "metadata": {},
   "outputs": [
    {
     "data": {
      "application/vnd.jupyter.widget-view+json": {
       "model_id": "39acc4abe9d74c74a98f701c7e09d671",
       "version_major": 2,
       "version_minor": 0
      },
      "text/plain": "VBox(children=(Label(value='I am a table', layout=Layout(align_items='center')), Output()))"
     },
     "metadata": {},
     "output_type": "display_data"
    }
   ],
   "source": [
    "df = pd.DataFrame({'a': range(5), 'b': range(5)})\n",
    "df.title('I am a table')"
   ]
  },
  {
   "cell_type": "code",
   "execution_count": null,
   "metadata": {},
   "outputs": [],
   "source": [
    "#export\n",
    "class Walker:\n",
    "    def __init__(self, val=0, min_val=None, max_val=None): store_attr()\n",
    "    def _next(self, *args, **kwargs):\n",
    "        self.val += 1\n",
    "        if self.max_val: self.val = min(self.max_val, self.val)\n",
    "    def _prev(self, *args, **kwargs):\n",
    "        self.val -= 1\n",
    "        if self.min_val: self.val = max(self.min_val, self.val)\n",
    "        "
   ]
  },
  {
   "cell_type": "code",
   "execution_count": null,
   "metadata": {},
   "outputs": [],
   "source": [
    "#export\n",
    "class Less:\n",
    "    def __init__(self, df, page_size=5, page=1):\n",
    "        store_attr()\n",
    "\n",
    "        self.out = widgets.Output(wait=True)\n",
    "        self.out_df = widgets.Output(wait=True)\n",
    "        self.out_df.append_display_data(self.df.page(page, page_size=self.page_size))\n",
    "        \n",
    "        self.n_pages = len(df)//self.page_size+1\n",
    "        self.page = Walker(val=page, min_val=1, max_val=self.n_pages)\n",
    "\n",
    "        self.next = widgets.Button(description='next')\n",
    "        self.next.on_click(self.page._next)\n",
    "        self.next.on_click(self.refresh)\n",
    "\n",
    "        self.prev = widgets.Button(description='prev')\n",
    "        self.prev.on_click(self.page._prev)\n",
    "        self.prev.on_click(self.refresh)\n",
    "        \n",
    "        layout = widgets.Layout(width='100%', display='flex', align_items='center')\n",
    "        self.out_label = widgets.Output(wait=True)\n",
    "        with self.out_label: display(widgets.Label(f\"page {self.page.val} of {self.n_pages}\"))\n",
    "        self.box = widgets.VBox([self.out_df, widgets.HBox([self.prev, self.next, self.out_label])])\n",
    "        with self.out: \n",
    "            display(self.box)\n",
    "\n",
    "    def refresh(self, event):\n",
    "        self.out_df.clear_output()\n",
    "        with self.out_df: display(self.df.page(self.page.val, page_size=self.page_size))\n",
    "        self.out_label.clear_output()\n",
    "        with self.out_label: display(widgets.Label(f\"page {self.page.val} of {self.n_pages}\"))"
   ]
  },
  {
   "cell_type": "code",
   "execution_count": null,
   "metadata": {},
   "outputs": [],
   "source": [
    "#export\n",
    "@patch\n",
    "def less(self:pd.DataFrame, page_size=5, page=1): return Less(self, page_size=page_size, page=page).out"
   ]
  },
  {
   "cell_type": "code",
   "execution_count": null,
   "metadata": {},
   "outputs": [],
   "source": [
    "#export\n",
    "add_docs(pd.DataFrame, less='Displays one page of the DataFrame and buttons to move forward and backward.')"
   ]
  },
  {
   "cell_type": "code",
   "execution_count": null,
   "metadata": {},
   "outputs": [
    {
     "data": {
      "application/vnd.jupyter.widget-view+json": {
       "model_id": "424d0c5826884ea5ac92c1b446d0e42f",
       "version_major": 2,
       "version_minor": 0
      },
      "text/plain": "Label(value='page 2 of 3')"
     },
     "metadata": {},
     "output_type": "display_data"
    },
    {
     "data": {
      "application/vnd.jupyter.widget-view+json": {
       "model_id": "47e416ecab664ca0adadd75a11323fc4",
       "version_major": 2,
       "version_minor": 0
      },
      "text/plain": "Output()"
     },
     "metadata": {},
     "output_type": "display_data"
    }
   ],
   "source": [
    "df = pd.DataFrame({'a': range(17), 'b': range(17)})\n",
    "df.less(page_size=7, page=2)"
   ]
  },
  {
   "cell_type": "code",
   "execution_count": null,
   "metadata": {},
   "outputs": [],
   "source": [
    "#export\n",
    "@patch\n",
    "def less(self:pd.Series, page_size=5): return Less(self, page_size=page_size).out"
   ]
  },
  {
   "cell_type": "code",
   "execution_count": null,
   "metadata": {},
   "outputs": [],
   "source": [
    "#export\n",
    "add_docs(pd.Series, less='Displays one page of the Series and buttons to move forward and backward.')"
   ]
  },
  {
   "cell_type": "code",
   "execution_count": null,
   "metadata": {},
   "outputs": [
    {
     "data": {
      "application/vnd.jupyter.widget-view+json": {
       "model_id": "887f168887fb40019c5b4e2f64876f26",
       "version_major": 2,
       "version_minor": 0
      },
      "text/plain": "Label(value='page 1 of 2')"
     },
     "metadata": {},
     "output_type": "display_data"
    },
    {
     "data": {
      "application/vnd.jupyter.widget-view+json": {
       "model_id": "9cc905f500a44fb4a7cedba94647ae91",
       "version_major": 2,
       "version_minor": 0
      },
      "text/plain": "Output()"
     },
     "metadata": {},
     "output_type": "display_data"
    }
   ],
   "source": [
    "s = pd.Series(range(7))\n",
    "s.less()"
   ]
  },
  {
   "cell_type": "markdown",
   "metadata": {},
   "source": [
    "## Move columns to the front/back"
   ]
  },
  {
   "cell_type": "code",
   "execution_count": null,
   "metadata": {},
   "outputs": [],
   "source": [
    "#export\n",
    "@patch\n",
    "def c2back(self:pd.DataFrame, cols2back):\n",
    "    if not is_listy(cols2back): cols2back = [cols2back]\n",
    "    cols = [c for c in self.columns if c not in cols2back]+cols2back\n",
    "    return self[cols]"
   ]
  },
  {
   "cell_type": "code",
   "execution_count": null,
   "metadata": {},
   "outputs": [],
   "source": [
    "#export\n",
    "@patch\n",
    "def c2front(self:pd.DataFrame, cols2front):\n",
    "    if not is_listy(cols2front): cols2front = [cols2front]\n",
    "    cols = cols2front + [c for c in self.columns if c not in cols2front]\n",
    "    return self[cols]"
   ]
  },
  {
   "cell_type": "code",
   "execution_count": null,
   "metadata": {},
   "outputs": [],
   "source": [
    "add_docs(pd.DataFrame,\n",
    "         c2back='''Move columns to back''',\n",
    "         c2front='''Move columns to front''')"
   ]
  },
  {
   "cell_type": "code",
   "execution_count": null,
   "metadata": {},
   "outputs": [],
   "source": [
    "df = dummydf()"
   ]
  },
  {
   "cell_type": "code",
   "execution_count": null,
   "metadata": {},
   "outputs": [
    {
     "data": {
      "text/html": "<div>\n<style scoped>\n    .dataframe tbody tr th:only-of-type {\n        vertical-align: middle;\n    }\n\n    .dataframe tbody tr th {\n        vertical-align: top;\n    }\n\n    .dataframe thead th {\n        text-align: right;\n    }\n</style>\n<table border=\"1\" class=\"dataframe\">\n  <thead>\n    <tr style=\"text-align: right;\">\n      <th></th>\n      <th>col_2</th>\n      <th>col_1</th>\n    </tr>\n  </thead>\n  <tbody>\n    <tr>\n      <th>0</th>\n      <td>a</td>\n      <td>100</td>\n    </tr>\n    <tr>\n      <th>1</th>\n      <td>b</td>\n      <td>101</td>\n    </tr>\n    <tr>\n      <th>2</th>\n      <td>c</td>\n      <td>102</td>\n    </tr>\n    <tr>\n      <th>3</th>\n      <td>d</td>\n      <td>103</td>\n    </tr>\n    <tr>\n      <th>4</th>\n      <td>e</td>\n      <td>104</td>\n    </tr>\n  </tbody>\n</table>\n</div>",
      "text/plain": [
       "  col_2  col_1\n",
       "0     a    100\n",
       "1     b    101\n",
       "2     c    102\n",
       "3     d    103\n",
       "4     e    104"
      ]
     },
     "execution_count": null,
     "metadata": {},
     "output_type": "execute_result"
    }
   ],
   "source": [
    "df.c2back(['col_1'])"
   ]
  },
  {
   "cell_type": "code",
   "execution_count": null,
   "metadata": {},
   "outputs": [
    {
     "data": {
      "text/html": "<div>\n<style scoped>\n    .dataframe tbody tr th:only-of-type {\n        vertical-align: middle;\n    }\n\n    .dataframe tbody tr th {\n        vertical-align: top;\n    }\n\n    .dataframe thead th {\n        text-align: right;\n    }\n</style>\n<table border=\"1\" class=\"dataframe\">\n  <thead>\n    <tr style=\"text-align: right;\">\n      <th></th>\n      <th>col_2</th>\n      <th>col_1</th>\n    </tr>\n  </thead>\n  <tbody>\n    <tr>\n      <th>0</th>\n      <td>a</td>\n      <td>100</td>\n    </tr>\n    <tr>\n      <th>1</th>\n      <td>b</td>\n      <td>101</td>\n    </tr>\n    <tr>\n      <th>2</th>\n      <td>c</td>\n      <td>102</td>\n    </tr>\n    <tr>\n      <th>3</th>\n      <td>d</td>\n      <td>103</td>\n    </tr>\n    <tr>\n      <th>4</th>\n      <td>e</td>\n      <td>104</td>\n    </tr>\n  </tbody>\n</table>\n</div>",
      "text/plain": [
       "  col_2  col_1\n",
       "0     a    100\n",
       "1     b    101\n",
       "2     c    102\n",
       "3     d    103\n",
       "4     e    104"
      ]
     },
     "execution_count": null,
     "metadata": {},
     "output_type": "execute_result"
    }
   ],
   "source": [
    "df.c2back('col_1')"
   ]
  },
  {
   "cell_type": "code",
   "execution_count": null,
   "metadata": {},
   "outputs": [
    {
     "data": {
      "text/html": "<div>\n<style scoped>\n    .dataframe tbody tr th:only-of-type {\n        vertical-align: middle;\n    }\n\n    .dataframe tbody tr th {\n        vertical-align: top;\n    }\n\n    .dataframe thead th {\n        text-align: right;\n    }\n</style>\n<table border=\"1\" class=\"dataframe\">\n  <thead>\n    <tr style=\"text-align: right;\">\n      <th></th>\n      <th>col_2</th>\n      <th>col_1</th>\n    </tr>\n  </thead>\n  <tbody>\n    <tr>\n      <th>0</th>\n      <td>a</td>\n      <td>100</td>\n    </tr>\n    <tr>\n      <th>1</th>\n      <td>b</td>\n      <td>101</td>\n    </tr>\n    <tr>\n      <th>2</th>\n      <td>c</td>\n      <td>102</td>\n    </tr>\n    <tr>\n      <th>3</th>\n      <td>d</td>\n      <td>103</td>\n    </tr>\n    <tr>\n      <th>4</th>\n      <td>e</td>\n      <td>104</td>\n    </tr>\n  </tbody>\n</table>\n</div>",
      "text/plain": [
       "  col_2  col_1\n",
       "0     a    100\n",
       "1     b    101\n",
       "2     c    102\n",
       "3     d    103\n",
       "4     e    104"
      ]
     },
     "execution_count": null,
     "metadata": {},
     "output_type": "execute_result"
    }
   ],
   "source": [
    "df.c2front('col_2')"
   ]
  },
  {
   "cell_type": "code",
   "execution_count": null,
   "metadata": {},
   "outputs": [
    {
     "data": {
      "text/html": "<div>\n<style scoped>\n    .dataframe tbody tr th:only-of-type {\n        vertical-align: middle;\n    }\n\n    .dataframe tbody tr th {\n        vertical-align: top;\n    }\n\n    .dataframe thead th {\n        text-align: right;\n    }\n</style>\n<table border=\"1\" class=\"dataframe\">\n  <thead>\n    <tr style=\"text-align: right;\">\n      <th></th>\n      <th>col_2</th>\n      <th>col_1</th>\n    </tr>\n  </thead>\n  <tbody>\n    <tr>\n      <th>0</th>\n      <td>a</td>\n      <td>100</td>\n    </tr>\n    <tr>\n      <th>1</th>\n      <td>b</td>\n      <td>101</td>\n    </tr>\n    <tr>\n      <th>2</th>\n      <td>c</td>\n      <td>102</td>\n    </tr>\n    <tr>\n      <th>3</th>\n      <td>d</td>\n      <td>103</td>\n    </tr>\n    <tr>\n      <th>4</th>\n      <td>e</td>\n      <td>104</td>\n    </tr>\n  </tbody>\n</table>\n</div>",
      "text/plain": [
       "  col_2  col_1\n",
       "0     a    100\n",
       "1     b    101\n",
       "2     c    102\n",
       "3     d    103\n",
       "4     e    104"
      ]
     },
     "execution_count": null,
     "metadata": {},
     "output_type": "execute_result"
    }
   ],
   "source": [
    "df.c2front(['col_2'])"
   ]
  },
  {
   "cell_type": "markdown",
   "metadata": {},
   "source": [
    "## Export"
   ]
  },
  {
   "cell_type": "code",
   "execution_count": null,
   "metadata": {},
   "outputs": [
    {
     "name": "stdout",
     "output_type": "stream",
     "text": [
      "Converted 00_core.ipynb.\nConverted index.ipynb.\n"
     ]
    }
   ],
   "source": [
    "from nbdev.export import notebook2script; notebook2script()"
   ]
  },
  {
   "cell_type": "code",
   "execution_count": null,
   "metadata": {},
   "outputs": [],
   "source": []
  }
 ],
 "metadata": {
  "kernelspec": {
   "display_name": "Python 3.8.5 64-bit ('base': conda)",
   "name": "python3"
  }
 },
 "nbformat": 4,
 "nbformat_minor": 2
}
