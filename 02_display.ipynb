{
 "cells": [
  {
   "cell_type": "code",
   "execution_count": null,
   "id": "d70821a3",
   "metadata": {},
   "outputs": [],
   "source": [
    "#| default_exp display"
   ]
  },
  {
   "cell_type": "markdown",
   "id": "ae0d0d06",
   "metadata": {},
   "source": [
    "# display"
   ]
  },
  {
   "cell_type": "code",
   "execution_count": null,
   "id": "e14f43e5",
   "metadata": {},
   "outputs": [],
   "source": [
    "#| export\n",
    "import pandas as pd\n",
    "import ipywidgets as widgets\n",
    "from IPython.display import display\n",
    "from fastcore.all import *\n",
    "\n",
    "from pdpatch.core import *"
   ]
  },
  {
   "cell_type": "code",
   "execution_count": null,
   "id": "a69552c9",
   "metadata": {},
   "outputs": [],
   "source": [
    "#| export\n",
    "@patch\n",
    "def title(self:pd.DataFrame, title):\n",
    "    '''Displays DataFrame with a title.'''\n",
    "    out = widgets.Output()\n",
    "    with out: display(self)\n",
    "    layout = widgets.Layout(align_items='center')\n",
    "    return widgets.VBox([widgets.Label(title, layout=layout), out])"
   ]
  },
  {
   "cell_type": "code",
   "execution_count": null,
   "id": "c1311bb2",
   "metadata": {},
   "outputs": [],
   "source": [
    "df = pd.DataFrame({'a': range(5), 'b': range(5)})\n",
    "df.title('I am a table')"
   ]
  },
  {
   "cell_type": "code",
   "execution_count": null,
   "id": "6c322703",
   "metadata": {},
   "outputs": [],
   "source": [
    "#| export\n",
    "class Walker:\n",
    "    def __init__(self, val=0, min_val=None, max_val=None): store_attr()\n",
    "    def _next(self, *args, val=1, **kwargs):\n",
    "        self.val += val\n",
    "        if self.max_val: self.val = min(self.max_val, self.val)\n",
    "    def _prev(self, *args, val=1, **kwargs):\n",
    "        self.val -= val\n",
    "        if self.min_val: self.val = max(self.min_val, self.val)\n",
    "    def _head(self):\n",
    "        self.val = 0\n",
    "        if self.min_val: self.val = max(self.min_val, self.val)       "
   ]
  },
  {
   "cell_type": "code",
   "execution_count": null,
   "id": "50a37676",
   "metadata": {},
   "outputs": [],
   "source": [
    "#| export\n",
    "class Less:\n",
    "    def __init__(self, df, page_size=5, page=1, where=None):\n",
    "        store_attr()\n",
    "        if not where is None:\n",
    "            page = math.floor(L(range_of(df))[where][0]/page_size+1)\n",
    "            \n",
    "        self.out = widgets.Output(wait=True)\n",
    "        self.out_df = widgets.Output(wait=True)\n",
    "        self.out_df.append_display_data(self.df.page(page, page_size=self.page_size))\n",
    "        \n",
    "        self.n_pages = len(df)//self.page_size+1\n",
    "        self.page = Walker(val=page, min_val=1, max_val=self.n_pages)\n",
    "\n",
    "        self.next = widgets.Button(description='next')\n",
    "        self.next.on_click(self.page._next)\n",
    "        self.next.on_click(self.refresh)\n",
    "\n",
    "        self.prev = widgets.Button(description='prev')\n",
    "        self.prev.on_click(self.page._prev)\n",
    "        self.prev.on_click(self.refresh)\n",
    "        \n",
    "        layout = widgets.Layout(width='100%', display='flex', align_items='center')\n",
    "        self.out_label = widgets.Output(wait=True)\n",
    "        with self.out_label: display(widgets.Label(f\"page {self.page.val} of {self.n_pages}\"))\n",
    "        self.box = widgets.VBox([widgets.HBox([self.prev, self.next, self.out_label]), self.out_df])\n",
    "        with self.out: \n",
    "            display(self.box)\n",
    "\n",
    "    def refresh(self, event):\n",
    "        self.out_df.clear_output()\n",
    "        with self.out_df: display(self.df.page(self.page.val, page_size=self.page_size))\n",
    "        self.out_label.clear_output()\n",
    "        with self.out_label: display(widgets.Label(f\"page {self.page.val} of {self.n_pages}\"))"
   ]
  },
  {
   "cell_type": "code",
   "execution_count": null,
   "id": "e3452239",
   "metadata": {},
   "outputs": [],
   "source": [
    "#| export\n",
    "@patch\n",
    "def less(self:pd.DataFrame, page_size=5, page=1, where=None):\n",
    "    '''Displays one page of the DataFrame and buttons to move forward and backward.'''\n",
    "    return Less(self, page_size=page_size, page=page, where=where).out"
   ]
  },
  {
   "cell_type": "code",
   "execution_count": null,
   "id": "5620921d",
   "metadata": {},
   "outputs": [],
   "source": [
    "df = pd.DataFrame({'a': range(17), 'b': range(17)})\n",
    "df.less(page_size=7, page=2)"
   ]
  },
  {
   "cell_type": "code",
   "execution_count": null,
   "id": "531e33ce",
   "metadata": {},
   "outputs": [],
   "source": [
    "df.less(page_size=3, where=df.a.gt(5))"
   ]
  },
  {
   "cell_type": "code",
   "execution_count": null,
   "id": "b71d95f6",
   "metadata": {},
   "outputs": [],
   "source": [
    "#| export\n",
    "@patch\n",
    "def less(self:pd.Series, page_size=5, where=None):\n",
    "    '''Displays one page of the Series and buttons to move forward and backward.'''\n",
    "    return Less(self, page_size=page_size, where=where).out"
   ]
  },
  {
   "cell_type": "code",
   "execution_count": null,
   "id": "d4871116",
   "metadata": {},
   "outputs": [],
   "source": [
    "s = pd.Series(range(7))\n",
    "s.less()"
   ]
  },
  {
   "cell_type": "code",
   "execution_count": null,
   "id": "061ef185",
   "metadata": {},
   "outputs": [],
   "source": [
    "#| export\n",
    "@patch\n",
    "def to_percent(self:pd.DataFrame, exclude=[]):\n",
    "    'Formats float columns to percentage.'\n",
    "    cols = self.dtypes[self.dtypes=='float'].index\n",
    "    cols = [c for c in cols if c not in exclude]\n",
    "    return self.style.format({c: '{:.1%}'.format for c in cols})"
   ]
  },
  {
   "cell_type": "code",
   "execution_count": null,
   "id": "e2c2b0be",
   "metadata": {},
   "outputs": [],
   "source": [
    "df = pd.DataFrame({'a': [0.1, 0.2], 'b': ['a', 'b']})\n",
    "df.to_percent()"
   ]
  },
  {
   "cell_type": "markdown",
   "id": "baa05117",
   "metadata": {},
   "source": [
    "## Export -"
   ]
  },
  {
   "cell_type": "code",
   "execution_count": null,
   "id": "dab7a870",
   "metadata": {},
   "outputs": [],
   "source": [
    "#|hide\n",
    "#|eval: false\n",
    "from nbdev import nbdev_export; nbdev_export()"
   ]
  }
 ],
 "metadata": {
  "kernelspec": {
   "display_name": "Python 3 (ipykernel)",
   "language": "python",
   "name": "python3"
  }
 },
 "nbformat": 4,
 "nbformat_minor": 5
}
