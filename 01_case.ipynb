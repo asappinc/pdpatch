{
 "cells": [
  {
   "cell_type": "code",
   "execution_count": null,
   "id": "421b0a21",
   "metadata": {},
   "outputs": [],
   "source": [
    "#default_exp case"
   ]
  },
  {
   "cell_type": "markdown",
   "id": "a155d68e",
   "metadata": {},
   "source": [
    "# case\n",
    "> Functions to deal with snake_case columns"
   ]
  },
  {
   "cell_type": "code",
   "execution_count": null,
   "id": "377f1b31",
   "metadata": {},
   "outputs": [],
   "source": [
    "#hide\n",
    "from nbdev.showdoc import *"
   ]
  },
  {
   "cell_type": "code",
   "execution_count": null,
   "id": "ee016313",
   "metadata": {},
   "outputs": [],
   "source": [
    "#export\n",
    "import re\n",
    "import pandas as pd\n",
    "from fastcore.all import *\n",
    "from pdpatch.core import *"
   ]
  },
  {
   "cell_type": "markdown",
   "id": "a9ef7cce",
   "metadata": {},
   "source": [
    "## Snake Case Column Names"
   ]
  },
  {
   "cell_type": "code",
   "execution_count": null,
   "id": "07b024d8",
   "metadata": {},
   "outputs": [],
   "source": [
    "#export\n",
    "def replace_parentheses(s):\n",
    "    out = s.replace('__','_(', 1).replace('__',')', 1)\n",
    "    if out == s: return out\n",
    "    return replace_parentheses(out)"
   ]
  },
  {
   "cell_type": "code",
   "execution_count": null,
   "id": "cc98901d",
   "metadata": {},
   "outputs": [],
   "source": [
    "#export\n",
    "_par_re = re.compile(r'((?<=\\()[A-Z])')"
   ]
  },
  {
   "cell_type": "code",
   "execution_count": null,
   "id": "f25f4390",
   "metadata": {},
   "outputs": [],
   "source": [
    "#export\n",
    "def snake2words(s): \n",
    "    return re.sub(_par_re, lambda x: x.group(0).lower(), ' '.join(replace_parentheses(s).title().split('_')))"
   ]
  },
  {
   "cell_type": "code",
   "execution_count": null,
   "id": "baddca85",
   "metadata": {},
   "outputs": [],
   "source": [
    "test_eq(snake2words('hi_bye__min__'), 'Hi Bye (min)')"
   ]
  },
  {
   "cell_type": "code",
   "execution_count": null,
   "id": "df6cb499",
   "metadata": {},
   "outputs": [],
   "source": [
    "#export\n",
    "acronyms = ['MAE', 'RMSE']\n",
    "def replace_acronyms(s):\n",
    "    if is_listy(s): return [replace_acronyms(o) for o in s]\n",
    "    for o in acronyms: s=s.replace(o.lower(), o).replace(o.capitalize(), o)\n",
    "    return s"
   ]
  },
  {
   "cell_type": "code",
   "execution_count": null,
   "id": "888ebbb9",
   "metadata": {},
   "outputs": [],
   "source": [
    "test_eq(replace_acronyms('foo mae Rmse'), 'foo MAE RMSE')"
   ]
  },
  {
   "cell_type": "code",
   "execution_count": null,
   "id": "8daee7a0",
   "metadata": {},
   "outputs": [],
   "source": [
    "test_eq(replace_acronyms(['foo mae Rmse', 'rmse bar']), ['foo MAE RMSE', 'RMSE bar'])"
   ]
  },
  {
   "cell_type": "code",
   "execution_count": null,
   "id": "6b02c203",
   "metadata": {},
   "outputs": [],
   "source": [
    "#export\n",
    "@patch\n",
    "def rename2words(self:pd.DataFrame): \n",
    "    '''Renames columns in snake_case to Words.'''\n",
    "    return self.renamec(snake2words).renamec(replace_acronyms)"
   ]
  },
  {
   "cell_type": "code",
   "execution_count": null,
   "id": "a5b66eca",
   "metadata": {},
   "outputs": [
    {
     "data": {
      "text/html": [
       "<div>\n",
       "<style scoped>\n",
       "    .dataframe tbody tr th:only-of-type {\n",
       "        vertical-align: middle;\n",
       "    }\n",
       "\n",
       "    .dataframe tbody tr th {\n",
       "        vertical-align: top;\n",
       "    }\n",
       "\n",
       "    .dataframe thead th {\n",
       "        text-align: right;\n",
       "    }\n",
       "</style>\n",
       "<table border=\"1\" class=\"dataframe\">\n",
       "  <thead>\n",
       "    <tr style=\"text-align: right;\">\n",
       "      <th></th>\n",
       "      <th>Col 1</th>\n",
       "      <th>Col 2</th>\n",
       "    </tr>\n",
       "  </thead>\n",
       "  <tbody>\n",
       "    <tr>\n",
       "      <th>0</th>\n",
       "      <td>100</td>\n",
       "      <td>a</td>\n",
       "    </tr>\n",
       "    <tr>\n",
       "      <th>1</th>\n",
       "      <td>101</td>\n",
       "      <td>b</td>\n",
       "    </tr>\n",
       "    <tr>\n",
       "      <th>2</th>\n",
       "      <td>102</td>\n",
       "      <td>c</td>\n",
       "    </tr>\n",
       "    <tr>\n",
       "      <th>3</th>\n",
       "      <td>103</td>\n",
       "      <td>d</td>\n",
       "    </tr>\n",
       "    <tr>\n",
       "      <th>4</th>\n",
       "      <td>104</td>\n",
       "      <td>e</td>\n",
       "    </tr>\n",
       "  </tbody>\n",
       "</table>\n",
       "</div>"
      ],
      "text/plain": [
       "   Col 1 Col 2\n",
       "0    100     a\n",
       "1    101     b\n",
       "2    102     c\n",
       "3    103     d\n",
       "4    104     e"
      ]
     },
     "execution_count": null,
     "metadata": {},
     "output_type": "execute_result"
    }
   ],
   "source": [
    "dummydf().rename2words()"
   ]
  },
  {
   "cell_type": "code",
   "execution_count": null,
   "id": "1a5e1993",
   "metadata": {},
   "outputs": [],
   "source": [
    "#export\n",
    "class PxLabeler:\n",
    "    def __getitem__(self, item): return replace_acronyms(snake2words(item))\n",
    "px_labeler = PxLabeler()"
   ]
  },
  {
   "cell_type": "markdown",
   "id": "abbf6eb0",
   "metadata": {},
   "source": [
    "Use `px_labeler` for the `labeler` plotly functions kwarg"
   ]
  },
  {
   "cell_type": "markdown",
   "id": "21506218",
   "metadata": {},
   "source": [
    "## Export"
   ]
  },
  {
   "cell_type": "code",
   "execution_count": null,
   "id": "731b7171",
   "metadata": {},
   "outputs": [
    {
     "name": "stdout",
     "output_type": "stream",
     "text": [
      "Converted 00_core.ipynb.\n",
      "Converted 01_case.ipynb.\n",
      "Converted index.ipynb.\n"
     ]
    }
   ],
   "source": [
    "from nbdev.export import notebook2script; notebook2script()"
   ]
  }
 ],
 "metadata": {
  "kernelspec": {
   "display_name": "Python 3 (ipykernel)",
   "language": "python",
   "name": "python3"
  }
 },
 "nbformat": 4,
 "nbformat_minor": 5
}
