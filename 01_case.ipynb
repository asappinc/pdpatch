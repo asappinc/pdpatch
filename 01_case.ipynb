{
 "cells": [
  {
   "cell_type": "code",
   "execution_count": null,
   "id": "29eefa81",
   "metadata": {},
   "outputs": [],
   "source": [
    "#default_exp case"
   ]
  },
  {
   "cell_type": "markdown",
   "id": "ff2324dd",
   "metadata": {},
   "source": [
    "# Case\n",
    "> Functions to deal with snake_case columns"
   ]
  },
  {
   "cell_type": "markdown",
   "id": "be35cbf4",
   "metadata": {},
   "source": [
    "## Imports"
   ]
  },
  {
   "cell_type": "code",
   "execution_count": null,
   "id": "8da8a9b2",
   "metadata": {},
   "outputs": [],
   "source": [
    "#hide\n",
    "from nbdev.showdoc import *"
   ]
  },
  {
   "cell_type": "code",
   "execution_count": null,
   "id": "9e1e1fd7",
   "metadata": {},
   "outputs": [],
   "source": [
    "#export\n",
    "import re\n",
    "import pandas as pd\n",
    "from fastcore.all import *\n",
    "from pdpatch.core import *"
   ]
  },
  {
   "cell_type": "markdown",
   "id": "cd2ae7e7",
   "metadata": {},
   "source": [
    "## Snake Case Column Names"
   ]
  },
  {
   "cell_type": "code",
   "execution_count": null,
   "id": "c114f57a",
   "metadata": {},
   "outputs": [],
   "source": [
    "#export\n",
    "def replace_parentheses(s):\n",
    "    out = s.replace('__','_(', 1).replace('__',')', 1)\n",
    "    if out == s: return out\n",
    "    return replace_parentheses(out)"
   ]
  },
  {
   "cell_type": "code",
   "execution_count": null,
   "id": "6c18f76c",
   "metadata": {},
   "outputs": [],
   "source": [
    "#export\n",
    "_par_re = re.compile(r'((?<=\\()[A-Z])')"
   ]
  },
  {
   "cell_type": "code",
   "execution_count": null,
   "id": "5ee3e15a",
   "metadata": {},
   "outputs": [],
   "source": [
    "#export\n",
    "def snake2words(s): \n",
    "    return re.sub(_par_re, lambda x: x.group(0).lower(), ' '.join(replace_parentheses(s).title().split('_')))"
   ]
  },
  {
   "cell_type": "code",
   "execution_count": null,
   "id": "2e21e5b4",
   "metadata": {},
   "outputs": [],
   "source": [
    "test_eq(snake2words('hi_bye__min__'), 'Hi Bye (min)')"
   ]
  },
  {
   "cell_type": "code",
   "execution_count": null,
   "id": "6fced354",
   "metadata": {},
   "outputs": [],
   "source": [
    "#export\n",
    "acronyms = ['MAE', 'RMSE']\n",
    "def replace_acronyms(s):\n",
    "    if is_listy(s): return [replace_acronyms(o) for o in s]\n",
    "    for o in acronyms: s=s.replace(o.lower(), o).replace(o.capitalize(), o)\n",
    "    return s"
   ]
  },
  {
   "cell_type": "code",
   "execution_count": null,
   "id": "903d48f0",
   "metadata": {},
   "outputs": [],
   "source": [
    "test_eq(replace_acronyms('foo mae Rmse'), 'foo MAE RMSE')"
   ]
  },
  {
   "cell_type": "code",
   "execution_count": null,
   "id": "bbc1f2d1",
   "metadata": {},
   "outputs": [],
   "source": [
    "test_eq(replace_acronyms(['foo mae Rmse', 'rmse bar']), ['foo MAE RMSE', 'RMSE bar'])"
   ]
  },
  {
   "cell_type": "code",
   "execution_count": null,
   "id": "a0468740",
   "metadata": {},
   "outputs": [],
   "source": [
    "#export\n",
    "@patch\n",
    "def rename2words(self:pd.DataFrame): \n",
    "    '''Renames columns in snake_case to Words.'''\n",
    "    return self.renamec(snake2words).renamec(replace_acronyms)"
   ]
  },
  {
   "cell_type": "code",
   "execution_count": null,
   "id": "cdbfbca1",
   "metadata": {},
   "outputs": [
    {
     "data": {
      "text/html": [
       "<div>\n",
       "<style scoped>\n",
       "    .dataframe tbody tr th:only-of-type {\n",
       "        vertical-align: middle;\n",
       "    }\n",
       "\n",
       "    .dataframe tbody tr th {\n",
       "        vertical-align: top;\n",
       "    }\n",
       "\n",
       "    .dataframe thead th {\n",
       "        text-align: right;\n",
       "    }\n",
       "</style>\n",
       "<table border=\"1\" class=\"dataframe\">\n",
       "  <thead>\n",
       "    <tr style=\"text-align: right;\">\n",
       "      <th></th>\n",
       "      <th>Col 1</th>\n",
       "      <th>Col 2</th>\n",
       "    </tr>\n",
       "  </thead>\n",
       "  <tbody>\n",
       "    <tr>\n",
       "      <th>0</th>\n",
       "      <td>100</td>\n",
       "      <td>a</td>\n",
       "    </tr>\n",
       "    <tr>\n",
       "      <th>1</th>\n",
       "      <td>101</td>\n",
       "      <td>b</td>\n",
       "    </tr>\n",
       "    <tr>\n",
       "      <th>2</th>\n",
       "      <td>102</td>\n",
       "      <td>c</td>\n",
       "    </tr>\n",
       "    <tr>\n",
       "      <th>3</th>\n",
       "      <td>103</td>\n",
       "      <td>d</td>\n",
       "    </tr>\n",
       "    <tr>\n",
       "      <th>4</th>\n",
       "      <td>104</td>\n",
       "      <td>e</td>\n",
       "    </tr>\n",
       "  </tbody>\n",
       "</table>\n",
       "</div>"
      ],
      "text/plain": [
       "   Col 1 Col 2\n",
       "0    100     a\n",
       "1    101     b\n",
       "2    102     c\n",
       "3    103     d\n",
       "4    104     e"
      ]
     },
     "execution_count": null,
     "metadata": {},
     "output_type": "execute_result"
    }
   ],
   "source": [
    "dummydf().rename2words()"
   ]
  },
  {
   "cell_type": "code",
   "execution_count": null,
   "id": "03db9e10",
   "metadata": {},
   "outputs": [],
   "source": [
    "#export\n",
    "class PxLabeler:\n",
    "    def __getitem__(self, item): return replace_acronyms(snake2words(item))\n",
    "px_labeler = PxLabeler()"
   ]
  },
  {
   "cell_type": "markdown",
   "id": "027444b5",
   "metadata": {},
   "source": [
    "Use `px_labeler` for the `labeler` plotly functions kwarg"
   ]
  },
  {
   "cell_type": "markdown",
   "id": "29ea6922",
   "metadata": {},
   "source": [
    "## Export"
   ]
  },
  {
   "cell_type": "code",
   "execution_count": null,
   "id": "da858b64",
   "metadata": {},
   "outputs": [
    {
     "name": "stdout",
     "output_type": "stream",
     "text": [
      "Converted 00_core.ipynb.\n",
      "Converted 01_case.ipynb.\n",
      "Converted index.ipynb.\n"
     ]
    }
   ],
   "source": [
    "from nbdev.export import notebook2script; notebook2script()"
   ]
  }
 ],
 "metadata": {
  "kernelspec": {
   "display_name": "Python 3 (ipykernel)",
   "language": "python",
   "name": "python3"
  }
 },
 "nbformat": 4,
 "nbformat_minor": 5
}
